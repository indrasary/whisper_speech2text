{
  "cells": [
    {
      "cell_type": "code",
      "source": [
        "!pip install openai"
      ],
      "metadata": {
        "colab": {
          "base_uri": "https://localhost:8080/"
        },
        "id": "1c-enK2ejJbY",
        "outputId": "a85bc88c-d334-43ca-f61c-5ea1c82242f4"
      },
      "id": "1c-enK2ejJbY",
      "execution_count": 4,
      "outputs": [
        {
          "output_type": "stream",
          "name": "stdout",
          "text": [
            "Collecting openai\n",
            "  Downloading openai-1.3.5-py3-none-any.whl (220 kB)\n",
            "\u001b[?25l     \u001b[90m━━━━━━━━━━━━━━━━━━━━━━━━━━━━━━━━━━━━━━━━\u001b[0m \u001b[32m0.0/220.8 kB\u001b[0m \u001b[31m?\u001b[0m eta \u001b[36m-:--:--\u001b[0m\r\u001b[2K     \u001b[91m━━━━━━━━━━━━━━━━━━━━━━━━━\u001b[0m\u001b[91m╸\u001b[0m\u001b[90m━━━━━━━━━━━━━━\u001b[0m \u001b[32m143.4/220.8 kB\u001b[0m \u001b[31m4.1 MB/s\u001b[0m eta \u001b[36m0:00:01\u001b[0m\r\u001b[2K     \u001b[90m━━━━━━━━━━━━━━━━━━━━━━━━━━━━━━━━━━━━━━━━\u001b[0m \u001b[32m220.8/220.8 kB\u001b[0m \u001b[31m4.2 MB/s\u001b[0m eta \u001b[36m0:00:00\u001b[0m\n",
            "\u001b[?25hRequirement already satisfied: anyio<4,>=3.5.0 in /usr/local/lib/python3.10/dist-packages (from openai) (3.7.1)\n",
            "Requirement already satisfied: distro<2,>=1.7.0 in /usr/lib/python3/dist-packages (from openai) (1.7.0)\n",
            "Collecting httpx<1,>=0.23.0 (from openai)\n",
            "  Downloading httpx-0.25.2-py3-none-any.whl (74 kB)\n",
            "\u001b[2K     \u001b[90m━━━━━━━━━━━━━━━━━━━━━━━━━━━━━━━━━━━━━━━━\u001b[0m \u001b[32m75.0/75.0 kB\u001b[0m \u001b[31m5.0 MB/s\u001b[0m eta \u001b[36m0:00:00\u001b[0m\n",
            "\u001b[?25hRequirement already satisfied: pydantic<3,>=1.9.0 in /usr/local/lib/python3.10/dist-packages (from openai) (1.10.13)\n",
            "Requirement already satisfied: tqdm>4 in /usr/local/lib/python3.10/dist-packages (from openai) (4.66.1)\n",
            "Requirement already satisfied: typing-extensions<5,>=4.5 in /usr/local/lib/python3.10/dist-packages (from openai) (4.5.0)\n",
            "Requirement already satisfied: idna>=2.8 in /usr/local/lib/python3.10/dist-packages (from anyio<4,>=3.5.0->openai) (3.4)\n",
            "Requirement already satisfied: sniffio>=1.1 in /usr/local/lib/python3.10/dist-packages (from anyio<4,>=3.5.0->openai) (1.3.0)\n",
            "Requirement already satisfied: exceptiongroup in /usr/local/lib/python3.10/dist-packages (from anyio<4,>=3.5.0->openai) (1.1.3)\n",
            "Requirement already satisfied: certifi in /usr/local/lib/python3.10/dist-packages (from httpx<1,>=0.23.0->openai) (2023.7.22)\n",
            "Collecting httpcore==1.* (from httpx<1,>=0.23.0->openai)\n",
            "  Downloading httpcore-1.0.2-py3-none-any.whl (76 kB)\n",
            "\u001b[2K     \u001b[90m━━━━━━━━━━━━━━━━━━━━━━━━━━━━━━━━━━━━━━━━\u001b[0m \u001b[32m76.9/76.9 kB\u001b[0m \u001b[31m5.3 MB/s\u001b[0m eta \u001b[36m0:00:00\u001b[0m\n",
            "\u001b[?25hCollecting h11<0.15,>=0.13 (from httpcore==1.*->httpx<1,>=0.23.0->openai)\n",
            "  Downloading h11-0.14.0-py3-none-any.whl (58 kB)\n",
            "\u001b[2K     \u001b[90m━━━━━━━━━━━━━━━━━━━━━━━━━━━━━━━━━━━━━━━━\u001b[0m \u001b[32m58.3/58.3 kB\u001b[0m \u001b[31m5.5 MB/s\u001b[0m eta \u001b[36m0:00:00\u001b[0m\n",
            "\u001b[?25hInstalling collected packages: h11, httpcore, httpx, openai\n",
            "Successfully installed h11-0.14.0 httpcore-1.0.2 httpx-0.25.2 openai-1.3.5\n"
          ]
        }
      ]
    },
    {
      "cell_type": "code",
      "source": [
        "!pip install cohere"
      ],
      "metadata": {
        "colab": {
          "base_uri": "https://localhost:8080/"
        },
        "id": "O1qnyRnXjAGe",
        "outputId": "96f4df94-cfe5-405f-97d0-b1db2d9285cb"
      },
      "id": "O1qnyRnXjAGe",
      "execution_count": 6,
      "outputs": [
        {
          "output_type": "stream",
          "name": "stdout",
          "text": [
            "Requirement already satisfied: cohere in /usr/local/lib/python3.10/dist-packages (4.37)\n",
            "Requirement already satisfied: aiohttp<4.0,>=3.0 in /usr/local/lib/python3.10/dist-packages (from cohere) (3.8.6)\n",
            "Requirement already satisfied: backoff<3.0,>=2.0 in /usr/local/lib/python3.10/dist-packages (from cohere) (2.2.1)\n",
            "Requirement already satisfied: fastavro<2.0,>=1.8 in /usr/local/lib/python3.10/dist-packages (from cohere) (1.9.0)\n",
            "Requirement already satisfied: importlib_metadata<7.0,>=6.0 in /usr/local/lib/python3.10/dist-packages (from cohere) (6.8.0)\n",
            "Requirement already satisfied: requests<3.0.0,>=2.25.0 in /usr/local/lib/python3.10/dist-packages (from cohere) (2.31.0)\n",
            "Requirement already satisfied: urllib3<3,>=1.26 in /usr/local/lib/python3.10/dist-packages (from cohere) (2.0.7)\n",
            "Requirement already satisfied: attrs>=17.3.0 in /usr/local/lib/python3.10/dist-packages (from aiohttp<4.0,>=3.0->cohere) (23.1.0)\n",
            "Requirement already satisfied: charset-normalizer<4.0,>=2.0 in /usr/local/lib/python3.10/dist-packages (from aiohttp<4.0,>=3.0->cohere) (3.3.2)\n",
            "Requirement already satisfied: multidict<7.0,>=4.5 in /usr/local/lib/python3.10/dist-packages (from aiohttp<4.0,>=3.0->cohere) (6.0.4)\n",
            "Requirement already satisfied: async-timeout<5.0,>=4.0.0a3 in /usr/local/lib/python3.10/dist-packages (from aiohttp<4.0,>=3.0->cohere) (4.0.3)\n",
            "Requirement already satisfied: yarl<2.0,>=1.0 in /usr/local/lib/python3.10/dist-packages (from aiohttp<4.0,>=3.0->cohere) (1.9.2)\n",
            "Requirement already satisfied: frozenlist>=1.1.1 in /usr/local/lib/python3.10/dist-packages (from aiohttp<4.0,>=3.0->cohere) (1.4.0)\n",
            "Requirement already satisfied: aiosignal>=1.1.2 in /usr/local/lib/python3.10/dist-packages (from aiohttp<4.0,>=3.0->cohere) (1.3.1)\n",
            "Requirement already satisfied: zipp>=0.5 in /usr/local/lib/python3.10/dist-packages (from importlib_metadata<7.0,>=6.0->cohere) (3.17.0)\n",
            "Requirement already satisfied: idna<4,>=2.5 in /usr/local/lib/python3.10/dist-packages (from requests<3.0.0,>=2.25.0->cohere) (3.4)\n",
            "Requirement already satisfied: certifi>=2017.4.17 in /usr/local/lib/python3.10/dist-packages (from requests<3.0.0,>=2.25.0->cohere) (2023.7.22)\n"
          ]
        }
      ]
    },
    {
      "cell_type": "code",
      "execution_count": 5,
      "metadata": {
        "colab": {
          "base_uri": "https://localhost:8080/"
        },
        "id": "10081e90-97dd-416e-8be1-ecebd36e11b8",
        "outputId": "7757969c-d8c7-4c53-bdb8-74fc0c46a3be"
      },
      "outputs": [
        {
          "output_type": "stream",
          "name": "stdout",
          "text": [
            "Collecting git+https://github.com/openai/whisper.git\n",
            "  Cloning https://github.com/openai/whisper.git to /tmp/pip-req-build-2l7h3r1i\n",
            "  Running command git clone --filter=blob:none --quiet https://github.com/openai/whisper.git /tmp/pip-req-build-2l7h3r1i\n",
            "  Resolved https://github.com/openai/whisper.git to commit e58f28804528831904c3b6f2c0e473f346223433\n",
            "  Installing build dependencies ... \u001b[?25l\u001b[?25hdone\n",
            "  Getting requirements to build wheel ... \u001b[?25l\u001b[?25hdone\n",
            "  Preparing metadata (pyproject.toml) ... \u001b[?25l\u001b[?25hdone\n",
            "Requirement already satisfied: triton<3,>=2.0.0 in /usr/local/lib/python3.10/dist-packages (from openai-whisper==20231117) (2.1.0)\n",
            "Requirement already satisfied: numba in /usr/local/lib/python3.10/dist-packages (from openai-whisper==20231117) (0.58.1)\n",
            "Requirement already satisfied: numpy in /usr/local/lib/python3.10/dist-packages (from openai-whisper==20231117) (1.23.5)\n",
            "Requirement already satisfied: torch in /usr/local/lib/python3.10/dist-packages (from openai-whisper==20231117) (2.1.0+cu118)\n",
            "Requirement already satisfied: tqdm in /usr/local/lib/python3.10/dist-packages (from openai-whisper==20231117) (4.66.1)\n",
            "Requirement already satisfied: more-itertools in /usr/local/lib/python3.10/dist-packages (from openai-whisper==20231117) (10.1.0)\n",
            "Requirement already satisfied: tiktoken in /usr/local/lib/python3.10/dist-packages (from openai-whisper==20231117) (0.5.1)\n",
            "Requirement already satisfied: filelock in /usr/local/lib/python3.10/dist-packages (from triton<3,>=2.0.0->openai-whisper==20231117) (3.13.1)\n",
            "Requirement already satisfied: llvmlite<0.42,>=0.41.0dev0 in /usr/local/lib/python3.10/dist-packages (from numba->openai-whisper==20231117) (0.41.1)\n",
            "Requirement already satisfied: regex>=2022.1.18 in /usr/local/lib/python3.10/dist-packages (from tiktoken->openai-whisper==20231117) (2023.6.3)\n",
            "Requirement already satisfied: requests>=2.26.0 in /usr/local/lib/python3.10/dist-packages (from tiktoken->openai-whisper==20231117) (2.31.0)\n",
            "Requirement already satisfied: typing-extensions in /usr/local/lib/python3.10/dist-packages (from torch->openai-whisper==20231117) (4.5.0)\n",
            "Requirement already satisfied: sympy in /usr/local/lib/python3.10/dist-packages (from torch->openai-whisper==20231117) (1.12)\n",
            "Requirement already satisfied: networkx in /usr/local/lib/python3.10/dist-packages (from torch->openai-whisper==20231117) (3.2.1)\n",
            "Requirement already satisfied: jinja2 in /usr/local/lib/python3.10/dist-packages (from torch->openai-whisper==20231117) (3.1.2)\n",
            "Requirement already satisfied: fsspec in /usr/local/lib/python3.10/dist-packages (from torch->openai-whisper==20231117) (2023.6.0)\n",
            "Requirement already satisfied: charset-normalizer<4,>=2 in /usr/local/lib/python3.10/dist-packages (from requests>=2.26.0->tiktoken->openai-whisper==20231117) (3.3.2)\n",
            "Requirement already satisfied: idna<4,>=2.5 in /usr/local/lib/python3.10/dist-packages (from requests>=2.26.0->tiktoken->openai-whisper==20231117) (3.4)\n",
            "Requirement already satisfied: urllib3<3,>=1.21.1 in /usr/local/lib/python3.10/dist-packages (from requests>=2.26.0->tiktoken->openai-whisper==20231117) (2.0.7)\n",
            "Requirement already satisfied: certifi>=2017.4.17 in /usr/local/lib/python3.10/dist-packages (from requests>=2.26.0->tiktoken->openai-whisper==20231117) (2023.7.22)\n",
            "Requirement already satisfied: MarkupSafe>=2.0 in /usr/local/lib/python3.10/dist-packages (from jinja2->torch->openai-whisper==20231117) (2.1.3)\n",
            "Requirement already satisfied: mpmath>=0.19 in /usr/local/lib/python3.10/dist-packages (from sympy->torch->openai-whisper==20231117) (1.3.0)\n"
          ]
        }
      ],
      "source": [
        "!pip install git+https://github.com/openai/whisper.git"
      ],
      "id": "10081e90-97dd-416e-8be1-ecebd36e11b8"
    },
    {
      "cell_type": "code",
      "execution_count": 7,
      "metadata": {
        "id": "24519a06-c9ee-4389-ae53-89e993a2879d"
      },
      "outputs": [],
      "source": [
        "import whisper\n",
        "import os\n",
        "import numpy as np\n",
        "import torch"
      ],
      "id": "24519a06-c9ee-4389-ae53-89e993a2879d"
    },
    {
      "cell_type": "code",
      "execution_count": 8,
      "metadata": {
        "id": "ykfnL64zXbNl",
        "colab": {
          "base_uri": "https://localhost:8080/"
        },
        "outputId": "1db3a961-0bda-4df5-f076-f0c2f3beb9b9"
      },
      "outputs": [
        {
          "output_type": "stream",
          "name": "stdout",
          "text": [
            "Mounted at /content/drive\n"
          ]
        }
      ],
      "source": [
        "from google.colab import drive\n",
        "drive.mount('/content/drive')"
      ],
      "id": "ykfnL64zXbNl"
    },
    {
      "cell_type": "code",
      "execution_count": 9,
      "metadata": {
        "id": "c9e1cb52-5abd-4c0d-8148-a75ba9df529f",
        "colab": {
          "base_uri": "https://localhost:8080/"
        },
        "outputId": "86f42a1d-c2a3-41cc-d2d7-9a458dfed9b7"
      },
      "outputs": [
        {
          "output_type": "stream",
          "name": "stdout",
          "text": [
            "True\n"
          ]
        }
      ],
      "source": [
        "print(torch.cuda.is_available())\n",
        "DEVICE = \"cuda\" if torch.cuda.is_available() else \"cpu\""
      ],
      "id": "c9e1cb52-5abd-4c0d-8148-a75ba9df529f"
    },
    {
      "cell_type": "code",
      "execution_count": 10,
      "metadata": {
        "id": "da90a7d8-07fd-4513-affb-fd67af9dc227",
        "colab": {
          "base_uri": "https://localhost:8080/"
        },
        "outputId": "af42c011-8448-44a9-ad77-bf9bcb31daad"
      },
      "outputs": [
        {
          "output_type": "stream",
          "name": "stderr",
          "text": [
            "100%|█████████████████████████████████████| 1.42G/1.42G [00:18<00:00, 80.5MiB/s]\n"
          ]
        },
        {
          "output_type": "stream",
          "name": "stdout",
          "text": [
            "Model is multilingual and has 762,321,920 parameters.\n"
          ]
        }
      ],
      "source": [
        "model = whisper.load_model(\"medium\", device=DEVICE)\n",
        "print(\n",
        "    f\"Model is {'multilingual' if model.is_multilingual else 'English-only'} \"\n",
        "    f\"and has {sum(np.prod(p.shape) for p in model.parameters()):,} parameters.\"\n",
        ")"
      ],
      "id": "da90a7d8-07fd-4513-affb-fd67af9dc227"
    },
    {
      "cell_type": "code",
      "execution_count": 11,
      "metadata": {
        "id": "017226fc-ed5a-4d57-8a08-99f82a71a13c"
      },
      "outputs": [],
      "source": [
        "audio = whisper.load_audio(\"drive/MyDrive/ColabNotebooks/Bimbingan1312_2022.mp3\")\n",
        "audio = whisper.pad_or_trim(audio)\n",
        "mel = whisper.log_mel_spectrogram(audio).to(model.device)"
      ],
      "id": "017226fc-ed5a-4d57-8a08-99f82a71a13c"
    },
    {
      "cell_type": "code",
      "execution_count": 12,
      "metadata": {
        "id": "78b5ff5f-2720-45b6-bb18-46d5135f7631",
        "colab": {
          "base_uri": "https://localhost:8080/"
        },
        "outputId": "3fcfc60c-3f85-4fef-8b45-a60047ccfe6b"
      },
      "outputs": [
        {
          "output_type": "stream",
          "name": "stdout",
          "text": [
            "Detected language: id\n"
          ]
        }
      ],
      "source": [
        "_, probs = model.detect_language(mel)\n",
        "print(f\"Detected language: {max(probs, key=probs.get)}\")"
      ],
      "id": "78b5ff5f-2720-45b6-bb18-46d5135f7631"
    },
    {
      "cell_type": "markdown",
      "metadata": {
        "id": "Mj89IIGjwrOs"
      },
      "source": [],
      "id": "Mj89IIGjwrOs"
    },
    {
      "cell_type": "code",
      "execution_count": 13,
      "metadata": {
        "id": "e83d1999-5c59-4a31-8687-e96ae7960534",
        "colab": {
          "base_uri": "https://localhost:8080/"
        },
        "outputId": "7b31d01e-6d5e-4926-bb9f-ce1721847438"
      },
      "outputs": [
        {
          "output_type": "stream",
          "name": "stdout",
          "text": [
            "Sesungguhnya mengimplementasikan lagnya. Jadi orang itu paling tentang pola itu cukup sensitif. Jadi kalau misalnya saya lihat ini dari komponensi, misalnya gitu. Artinya itu kan sesungguhnya saya punya kemampuan mendeteksi visual kan gitu. Sebelum\n"
          ]
        }
      ],
      "source": [
        "options = whisper.DecodingOptions(language=\"id\", without_timestamps=True, fp16 = False)\n",
        "result = whisper.decode(model, mel, options)\n",
        "print(result.text)"
      ],
      "id": "e83d1999-5c59-4a31-8687-e96ae7960534"
    },
    {
      "cell_type": "code",
      "execution_count": 14,
      "metadata": {
        "id": "4fc09c4d-bbce-42a8-8f28-605c972b8542",
        "colab": {
          "base_uri": "https://localhost:8080/"
        },
        "outputId": "44b77fd6-49e3-4d29-d6f7-ecf76eda0fb3"
      },
      "outputs": [
        {
          "output_type": "stream",
          "name": "stdout",
          "text": [
            "Actually, it is a way to implement the LeMegas. So, people are sensitive about the pattern. So, if I see this, it is very... ...competitive. For example, it means that I actually have the ability to detect the visual.\n"
          ]
        }
      ],
      "source": [
        "options = whisper.DecodingOptions(language=\"en\", without_timestamps=True, fp16 = False)\n",
        "result = whisper.decode(model, mel, options)\n",
        "print(result.text)"
      ],
      "id": "4fc09c4d-bbce-42a8-8f28-605c972b8542"
    },
    {
      "cell_type": "code",
      "execution_count": 15,
      "metadata": {
        "colab": {
          "base_uri": "https://localhost:8080/"
        },
        "id": "f214ff0a-1be4-444e-92d9-c9b80d333673",
        "outputId": "ce40bc16-bc19-4a2c-d551-27219eaadc1c"
      },
      "outputs": [
        {
          "output_type": "stream",
          "name": "stdout",
          "text": [
            "[' Sesungguhnya mengimplementasikan lagnya. Ya. Jadi', 'orang itu paling tentang pola itu cukup sensitif', 'ya. Jadi kalau misalnya saya lihat ini dari', 'komponensitif misalnya gitu. Artinya itu kan', 'sesungguhnya saya punya kemampuan mendeteksi', 'visual kan gitu. Sebelum apa isalnya, berikutnya.', 'Padahal kalau tadi karena saya tidak punya anu,', 'hanya punya sedikit presentasinya anak-anak itu.', 'Jadi dia begitu lihat itu dia menilai banyak hal', 'dari kamera itu. Jadi ternyata bisa juga dia', 'mengerti ya dari kamera. Tapi lepas dari itu,', 'kalau menurut saya, atas spin-off-nya juga ya.', 'Jadi konsep liveness terkait dengan, begitu di', 'kamera satu, nanti kan kita harus', 'mengimplementasikan pengetahuan wajah ya. Satu,', 'mengenakan wajah. Dua, liveness. Ketika baru', 'tentang liveness itu, macam-macam kan, suhu-nya', 'berapa, anu, heart-rate-nya berapa. Nah sampai di', 'liveness saja, itu kalau itu bisa minimalis ya.', 'Artinya orang tidak perlu goyang-goyang dan', 'stresnya. Itu sudah santai karena kalau itu bisa,', 'maka hasil yang kita hasilkan itu bisa menolong', 'pensiunan-pensiunan itu. Karena pensiunan-', 'pensiunan itu, misalnya mas Budi Raja itu mengeluh', 'karena ibunya kan sudah stru. Padahal untuk ambil', 'gaji, itu harus gila-gilo, apa lah. Jadi, itu', 'sebenarnya kan tidak. Padahal, kalau di standar', 'international, tentang liveness kan tidak harus', 'gerak. Kan, harus gitu dulu, gitu dulu, itu tidak.', 'Kan, ibunya sudah, anu ya, sudah stru, tapi ya,', 'stru ya, begitulah. Ya, kalau disuruh gitu, itu', 'kan bisa. Itu kan permanfaatnya tentang liveness', 'ya. Dan, saya mendukanya banyak kalau urusannya', 'bisa single sensor tapi multiple sensing ya.', 'Gimana itu, Bu Minerjie? Budi ini kan agak', 'susahkan itu, nanti gunanya dibayangkan pada nanti', 'spinoffnya ya. Jadi, kalau saran saya, lumayan', 'konsentrasi di kamera. Karena itu ke depan, nanti', 'Prof. Ari akan mengalih quantum kan ya. Yang', 'paling jauhkan adalah tentang photonics. Jadi,', 'tadi kita menamparkan photonics. Jadi, dari', 'photonics ternyata dari permukaannya saja kita', 'bisa anu ya, oh, motone sutup. Misalnya, gitu ya.', 'Jadi, berarti kurang tidur, apa lah saya tidak', 'ngerti anunya ya. Itu kan nanti bisa ngerti macam-', 'macam. Jadi, apa itu tadi? Recommendation. System', 'apa lah itu. Early warning system. Ya, intinya kan', 'rating ya. Nanti rating dulu, dari rating baru', 'system rekomendasi. Jadi, kalau ratingnya deket,', 'seharusnya quick, itu kan ada healthy dan ada', 'quick. Karena suka lihat pak. Boi. Jadi, cerita', 'itu kan ada dua parameter orang. Orang itu ada', 'sehar, tidak quick. Ada yang quick, tidak sehar,', 'gitu-gitu lah. Karena, konon itu berbeda. Saya', 'tidak paham ya. Saya tidak paham. Maka, ini', 'komentar saja. Dan kalau bisa single sensor, multi', 'sensing, itu sepertinya samping. Kemudian tadi,', 'disamping untuk urusan begini nanti, yang directly', 'itu adalah kalau menurut saya yang life lesson.', 'Karena saya ingat, setelah kali bermas budi, ada', 'lho. Setiap pano tanggal muda kan, beliau harus', 'meng-camera-ing untuk bisa mengambil, ya. Untuk', 'mencari. Oke, silahkan. Kayaknya gini. Terima', 'kasih pak. Terima kasih. Terharga. Terima kasih', 'pak. Terima kasih pak. Terima kasih pak. Saya', 'belum makan. Ya, ya... Kalau saya, mungkin tidak', 'akan komentari ini ya. Saya cuma komentari, apa...', 'Kelengkapan. Karena teman-teman butuh lengkap.', 'Butuh detail. Ya kan? Yang tadi masih... Makanya', 'saya agak sulit untuk... Berkomentar. Mengkoreksi', 'maupun itu karena detailnya tidak ada. Nanti', 'malah... Dia bingung. Jadi saya akan bilang', 'masalahnya detail nih. Kalau detail baru kebayang,', 'coba ke atas tadi. Ya. Ya, tadi makanya saya', 'bilang, head profile or prediction apa? Apa head', 'profile? Apa yang di sebuah prediction? Gitu ya.', 'Supaya, jadi nanti kalau head profile, karen,', 'Kalau mau disebut... Variable-nya, ya disebut', 'variable-nya semua. Oksigen dalam dalem. Ya.', 'Ambil, ambil. Ya kan? Ini mahal, kan? Apa ya? Ya.', 'Ya, ya. Ya, ya. Ya, ya. Ya, ya. Ya, ya. Ya, ya.', 'Ya, ya. Ya, ya. Ya, ya. Ya, ya. Ya, ya. Ya, ya.', 'Ya, ya. Tanahan darah. Tensi mungkin, nggak sih?', 'Ya, tensi. Ya kan? Black pressure. Kan gitu ya?', 'Oh, ya. Semperator. Kecepatan. Jadi saya jadi ini', 'langsung, kayaknya ini baru dibuat, baru kesan', 'ini. Ya, kalau yang icon ini, baru ketemu, baru', 'nyari-nyari. Jadi kata-katanya, kan, itu adalah', 'waktu yang... Ya. Nah, itu sebetulnya akan muncul', 'sendiri ketika video membuat deskripsi detail. Ya.', 'Kalau dari segi detailnya dibuat, nanti akan', 'muncul untuk, oh ini ceritanya. Kemudian, oh ini', 'masuk sini, gampangnya gitu memang. Tapi kalau', 'nggak ada detail, ini jadi bisa komentar. Ya kan?', 'Jadi titas yang modul dari sini ke sini. Ini', 'maksudnya apa? Apa beda sama ini ya? Apa ini? Apa', 'ini? Gitu loh. Detail itu yang penting. Kan gitu', 'ya? Misalnya body head. Informasi apa sih yang', 'masuk sini? Ya kan? Ya body head, Pak. Ya, tapi', 'body head itu datanya kayak gimana? Ya kan? Apakah', 'satu asak-asak di battle? Apakah periodisasinya', 'setiap jam sekali? Setiap detik sekali. Kan gitu', 'ya? Ini semua kan ada ceritanya. Nah, itu kan', 'masuk ke sini. Kenapa ini di luar sini? Mungkin', 'ada sebab praktikal kenapa ini dibisah. Misalnya,', 'Pak, ini open EMR. Belum ada urusan ini. Ini bisa', 'buat modul di luar. Misalnya, itu kan cerita ya.', 'Yang betul-betul akan sangat menentukan, ini', 'gambar ini ada isinya atau kak? Gitu kira-kira', 'gitu. Nah, kalau sudah di sini, oh di sini isinya', 'ini, ini, ini, ini. Kemudian lihat ke atas. Nah,', 'gitu ya. Oh, yang disebut profile itu. Kan gitu', 'ya? Kemudian kalau sudah punya kurva-kurva itu,', 'apa sih yang mau diprediksi? Ya, gitu ya. Atau', 'yang disebut tadi, cuman setelah label. Membuat', 'klasifikasi. Nantinya ujungan klasifikasi. Nah,', 'jangan bilang nantinya. Itu yang saya bilang.', 'Karena detailnya itu jadi penting. Apa yang', 'disebut klasifikasi itu? Ya kan? Misalnya, yang', 'disebut klasifikasi itu misalnya, tadi ini low', 'bidder degad. Ya kan? Kemudian low bidder degad', 'itu apa? Kaitannya sama nontal lagi mati itu apa?', 'Atau kekronisan dari satu penyakit. Atau apa sih', 'sebetulnya? Karena saya tidak bisa melihat apa,', 'sebetulnya ini pak, itu lagu apa? Gitu ya. Kenapa', 'begitu? Kita udah waktu kemarin ngobrol tentang', 'apa namanya? Perliwani score. Nah, itu kan tapi', 'buat ke rumah sakit kan? Nah, sekarang maksudnya', 'itu perliwani score untuk orang sehat gitu. Yang', 'menuju sakit. Maksudnya apa? Nah, itu yang saya', 'maksud. Jadi kan kemarin kita bilang perliwani', 'score itu muncul di emergency situation yang', 'kaitannya dengan kekritisan kondisi dari', 'pasiennya. Nentah, bentar lagi mau. Ini gitu ya.', 'Pokoknya ini masalahnya sangat, ini ya, kita bisa', 'lihat bahwa apakah yang ini berarti butuh', 'penanganan luar biasa, pak. Atau extraordinary.', 'Yang ini berarti apa, sesuatu yang yang ini', 'mungkin sama sekali santai saja. Yang ini memang', 'harus sudah dilihat langsung lagi tiap lebih', 'intensif. Kalau melihat, melihat definisinya kan', 'begitu ya. Ini lebih intensif, ini sekarang. Kalau', 'rencananya video gini pak, untuk yang hijau ini', 'itu artinya dia cukup di rumah. Maksudnya malah', 'pengapit-pepat. Coba itu yang saya bilang cerita', 'itu yang harus mulai terlihat ya dalam cerita yang', 'sistematis. Gitu ya. Kalau enggak, memang jadi', 'agak terlalu jauh ya. Karena pembicaraan yang', 'bagusnya di rumah itu cerita yang akan panjang. Ya', 'kan? Jadi saya bilang memang bagus tapi kalau', 'deskripsinya enggak jelas kan enggak ini ya. Kan', 'kemarin gitu. Bisa jadi kata-katanya tapi belum', 'baku kan. Nah, kalau sudah bisa dicerakkan di side', 'under film-nya, tiba-tiba kita jadi tahu tempat-', 'tempatnya. Ya kan? Ini itu bukan di gamutikasi', 'mungkin. Ya, lebih ke layar sini. Misalnya. Gitu', 'ya. Tapi saya bilang kenapa saya sebetulnya tidak', 'ingin mengakukan jasmen seperti itu. Saya ingin', 'itu harus berangkat dari kesimpulan ketika film', 'men destripsikan. Makanya ini itu sebetulnya bisa', 'jadi gambar yang bagus, bisa gambar yang', 'sebetulnya enggak ada isinya. Gitu ya. Karena', 'perkara detil ini enggak ada. Itu yang perlu', 'diceritakan terus. Jika gitu. Ya. Jadi butuh', 'dokumennya nih. Kamu cerita lebih dalam dan ya', 'kan? Jadi kalau bisa, coba hindari, coba ke bawah.', 'Hindari hal-hal yang tidak yang membuat kamu jadi', 'susah. Ya kan? Ini sebetulnya tadi. Kenapa tadi', 'kan, ini sebetulnya sendiri anggota oximeter. Ini', 'sebetulnya body weight. Ya. Karena tadi, dapatin', 'ini sebetulnya macam-macam yang sensor. Pak Agung', 'bilang, kamu bisa pakai kamera. Gitu ya. Karena', 'yang penting sebetulnya kan informasi tentang', 'heart rate, oxigen, saturasi, ya gitu ya. Biasa', 'sama ini. Nah itu kan cerita yang harus konsisten.', 'Gitu. Oh, berarti kamu belum ngobrol dengan', 'sensornya. Dan emang enggak harus. Tidak aneh,', 'harusnya kamu harus bilang, oh, akan begini itu', 'nanti diskusi lebih dalam lagi. Mau diceritakan.', 'Pak, ini body head-nya akan pakai kamera. Diambil', 'dari sudut tertentu, bisa. Ya kan? Kalau untuk', 'kualifikasi, apakah harus sudah diketatkan', 'bagaimana cara pengambilan data, pengolahan sampai', 'ke rahiannya, Pak? Ya, sebaiknya. Ini kualifikasi', 'loh. Ini tuh kemampuan teman-teman pitching. Siapa', 'yang dipiccing? Biri. Saya sudah belajar ini loh.', 'Saya sudah punya pemikiran-pemikiran seperti ini.', 'Dan saya ingin berangkat ke tahap berikutnya. Itu', 'pitching itu. Ya kan? Tapi kalau ditanya, apakah', 'harus? Nggak ada yang bilang harus-harus. Tapi', 'kayaknya bagus kalau bisa sampai sana. Nah yang', 'penting memang cerita tentang diri kalian yang', 'lebih untuk. Ya kan? Saya sudah belajar ini loh.', 'Saya sudah punya konsep ini. Akhirnya saya akan', 'kesini. Ya kan? Kalau tadi yang diceritakan Pak', 'Agung, sebenarnya beberapa Jonah juga sudah', 'diatakan. Saya nggak akan ngobrol. Karena kalau', 'soal apa yang sudah ditejakan orang, kita semua', 'sudah tahu kan? Iya nggak? Kamu baca sudah 60. 70.', 'Itu bukan isu buat saya. Tinggal kamu tulis di', 'situ. Ini yang buat dikaper nomor berapa. Ini, O.', 'Harusnya kamu sudah begitu. Itu yang saya bilang.', 'Cerita ini bisa bagus. Ceritanya. Kita sudah', 'pernah buat. Teman-teman TMB itu sudah pernah', 'buat. Kalau disuruh buat sekarang, harusnya', 'mungkin sebentar. Kalau video masih berpikir,', 'mungkin belum banget ceritanya. Tapi menurut saya', 'tadi, backpack yang 70, harusnya sudah kelihatan', 'disini. Jadi bisa cerita lebih detil lagi. Tadi', 'kita bicara detil. Saya ingin bisa lebih detil', 'lagi. Terus cerita. Package satu disini. 45, 6,', '20. Itu. Ada cerita itu. Lihat ceritanya. Benar', 'itu. Karena di situ. Kunci itu. Coba di depan.', 'Kita lihatin. Terus mau cerita itu, kemarin ikut', 'conference international, itu dokter semua', 'ternyata. Kayak yang salah masuk dunia. Isinya itu', 'benar-benar spesifik. Cuma, video waktu itu kan', 'presentasi juga. Terus. Ininya tuh komentarnya', 'agak kurang. Karena mereka ke teknologi', 'sepertinya. Agak kurang. Kurang. Kan ini kan. Kita', 'punya prediksi. Berapa penyakit. Dengan machine', 'learning. Sebenarnya untuk penyelasannya pun.', 'Machine learning apa. Itu nggak terlalu detail.', 'Terus juga secara teknis bagaimana melakukan.', 'Membuat itu nggak terlalu detail juga. Yang', 'didetailkan itu bagaimana mereka pakai itu. Karena', 'kan semuanya dokter. Yang pertanyaannya sih. Untuk', 'pengujian. Reviewer ya. Apakah ini bisa stand', 'alone. Bahasa lain. Tapi saya mengartikannya stand', 'alone. Maksudnya tidak ada internet bisa dipakai', 'atau nggak. Untuk sedikit segitu ini. Bisa. Nanti', 'kalau misalnya itu dimasukkan ke komputer sendiri-', 'sendiri. Kan bisa. Sedangkan untuk koneksi data.', 'Itu bisa periodik. Disambungkannya. Tapi tetap', 'suatu saat. Secara periodik itu harus koneksi', 'dengan internet. Itu yang pertama. Terus yang', 'kedua dari sisi menolak. Sebetulnya nggak. Seminar', 'internasional. Seminar internasional. Unika. Jadi', 'Unika itu. Pepar sederhana. Jadi sebenarnya sih', 'mau mempublikasikan. Maksudnya kita ITB. Itu bisa.', 'Punya MR. Nantinya punya MRnya itu. Bisa bantu', 'mereka untuk Memprediksi. Ya. Tapi sebetulnya', 'mereka kayak yang nggak. Sebenarnya nggak terlalu', 'peduli masalah teknologi Yang AI itu. Simbulannya.', 'Masuk proceeding ya. Ya. Udah. Kemarin nggak tau', 'GSC. Ada masuk nggak ya ke emailnya Bapak? Nggak', 'pada bilang sih. Jadi nggak meriksa-meriksa. GSC.', 'Kan yang dimasukin. Corresponding authornya kan', 'Bapak. Masukin emailnya Bapak. Coba nanti dilihat.', 'Itu apa? Isinya. Gak. Apakah saya harus melakukan', 'sesuatu? Nggak. Cuma apakah masuk atau nggak. Itu', 'notifikasi dari Si fanitianya tuh. Kalau dari', 'dashboardnya. Apa yang bisa didapat dari', 'Conference itu? Yang tadi Bapak nanya kan.', 'Bagaimana kolaborasi sayangnya. Apa ya. Waktu itu', 'waktu menteri kesehatan gitu yang Itu nggak', 'dateng. Ya. Ya kolaborasinya. Jadi nggak bisa', 'ditanyakan kan. Bagaimana Indonesia menanggapi', 'Kolaborasi data. Yang di mana undang-undang Untuk', 'protektif datanya Malah dikeluarkan. Itu kan', 'kontradiksi banget Pak. Kita sebagai Saya nanya ke', 'si pembicara Dari Portugal itu. Kita sebagai', 'researcher. Emang urusan saya. Tapi dia dukung.', 'Dia malah membuka data untuk Uni Eropa. Terus kata', 'dia. Kita sekarang punya data dari Uni Eropa', 'nggak? Nah. Nanti saya dikasih emailnya Pak.', 'Secara jatri sama dia. Nah. Dia bilang gini. Tuh', 'lihat ya. Prosesnya kan gitu. Kan dia bilangnya', 'kan. Saya sangat pendukung. Untuk perlipian yang', 'Mengembangkan AI untuk dunia kesehatan. Bahkan di', 'Uni Eropa Saya itu sebagai salah satu penggerak', 'Untuk mengeluarkan Undang-undang ruang kedua Untuk', 'penelitian. Jadi di Uni Eropa itu udah Secara', 'hukum dilindungi Researcher itu Mengakses secara', 'bebas Ruang kedua nya tadi. Kalau kita Ya kita', 'jadi bisa ikutan-ikutan Buat yang begitu. Walaupun', 'memang Mungkin malah kita pakai Ruang kedua nya', 'Eropa. Ya. Makanya waktu pas ngezoom saya Ngechat', 'Jafri ke beliau nya. Minta Email nya. Nanti saya', 'Bungi lagi ya. Bungi lagi. Gelasan apa', 'Penelitiannya kami. Memang kerjaan teman-teman S3', 'banyak. Ya oh gini batas ngeusur kesini. Kalau', 'sampai dapet langsung donot. Misalnya gitu ya.', 'Jepet-jepet. Supaya pada saatnya Nanti kita bisa.', 'Oh ternyata butuh Dokumen ya. Seperti buat. Oke.', 'Next. Ini saya ternyata gak bawa ini Yang ada', 'interfacing HDMI nya. Ya pakai bluetooth. Tapi', 'masih. Gak bisa ke wireless Wiredsor Ini ada sih.', 'Tapi masih muter-muter Koneksinya. Wireless', 'projector. Kira Wiredsor nya. Udah ada di', 'Wiredsor. Disini ada kok. Ini ada rencana lagi.', 'Kita ya pak ya mau nulis paper. Dari Juna', 'Healthcare pak. Tapi tentang Early warning score', 'itu pak. Yang kemaren. Kenapa bluetooth ya? Oh.', 'Musinya ini. Wireless Coba wireless projector. Gak', 'bisa cari. Gak. Wireless projector. Ini isi tuh.', 'Ada tuh. Itu? Yang ini kan? Yang bisa dikuru. Ya.', 'Ini masih Fokusnya masih lebih ke Fabriksaan', 'Design ya pak. Jadi. Di bawah. Gimana? Gak', 'kelihatan. Ini aja. Black laser. Jadi di bawah.', 'Ini proses Anamnesa nya. Dari sisi dokernya', 'melakukan Diagnostik interview. Pasiennya', 'menyampaikan Rewali penyakitnya. Nah ini', 'sebenernya direkam. Disini saya. Kalau mau masukin', 'component IOT nya. Saya masukkan disini sih pak.', 'Cuman spesifiknya nanti seperti apa. Aplikasi', 'untuk perekamannya itu belum. Nah kemudian dari', 'sini nanti Akan masuk ya. Sebagai attachment dari', 'Rekam edis nya. Disini formatnya. Saya lebih', 'banyak Dapatnya itu yang Tidak berbayar itu WAF.', 'Proses WAF. Jadi disini saya. Ini aja untuk cari', 'aman nya ya formatnya. File audio nya WAF.', 'Kemudian nanti ini akan dirubah Ke Text base. Dan', 'ini jadi attachment di EHR nya. Kemudian data ini.', 'Kemudian diolah. Bisa diberi beberapa model Atau', 'beberapa library yang ada di IOT. Untuk sisi', 'Dokter nya. Itu text inferencing Atau Classifying.', 'Ini akan ada rekomendasi Bentuknya nanti disini.', 'Rekomendasi Ini lebih Karena yang terkejar untuk', 'sekarang sih. Bisa memberikan rekomendasi Domain', 'penyakit dari Pesien itu. Maksudnya ke medical', 'speciality apa aja. Walaupun Harapannya nantinya', 'itu Bahkan bisa sampai ke Memberikan saran', 'Penanganan dari Di jalap Penyakit yang ada di', 'pasien. Jadi kalau untuk sisi dokter nya itu', 'Memberikan rekomendasi medical speciality nya apa.', 'Walaupun nanti ujungnya Kalau masih ada waktu saya', 'berharapnya bisa Sampai ke penyakit ya. Tapi ini', 'Target realistik saya. Jadi lebih ke dia', 'memberikan Suggestion ini masuk Domain', 'spesialisasi apa aja. Itu untuk dokter nya. Untuk', 'sisi pasiennya dia memberikan Suggestion', 'Penanganan atau penatelaksanaan Penyakit yang', 'Tepat ya untuk Keluhannya. Jadi ini yang terbayang', 'Sama saya. Untuk sisi pasien itu Lewat web', 'crawling. Karena itu nanti Suggestionnya berupa', 'artikel dan link. Kemudian kalau untuk dokternya', 'Itu baru yang pakai klasifikasi. Dan lebih jauh', 'lagi Karena Dalam proses pengobatan itu Perlu ada', 'engagement ya Antara pasien dengan dokternya. Jadi', 'saya pikir perlu juga Ada masukan Empati analisis', 'untuk Menilai apakah percakapan Diagnostik yang', 'dilakukan Menilai apakah percakapan Diagnostik', 'yang dilakukan oleh dokter itu Sudah cukup empatik', 'Ke pasiennya seperti itu. Jadi disini Juga nanti', 'akan ada Bentuknya mungkin aplikasi ya. Jadi untuk', 'sisi dokternya Itu dia dapat masukkan Tentang', 'domain spesialisasi Penyakit apa saja. Dan apakah', 'Diagnostik yang dilakukan itu Sudah cukup empatik', 'atau tidak. Kalau untuk sisi pasiennya dia akan', 'dapat Ini suggestion Penyelidikan laksanaan', 'Penyakit yang terkait dengan keruhannya. Bahkan', 'untuk gemeran besarnya Walaupun ini saya masih', 'Sekarang lagi mikir-mikir lagi sih pak Jangan', 'jangan apa Terlalu saya persembiti ya Kalau ini', 'larinya ke teaching hospital Karena Mungkin kalau', 'diperluas Kalau lebih generic Malah lebih', 'bermanfaat gitu. Tapi waktu buat ini terpikirnya', 'nih Skenarionya itu terjadi di Teaching hospital', 'yang akan Menjadi feedback juga untuk Makanya', 'disini ada Ada dekan, paku testu dokteran Beberapa', 'waktu lalu saya sempat Buka komunikasi juga dengan', 'Kepala Program sudi Untuk profesi dokter Tapi', 'untuk Sempat saya tanya juga sih Feedback dari', 'beliau Tentang rancangan ini. Tengah tanya sejauh', 'ini positif Dokter menganggap apa-apa Biasanya Itu', 'tadi yang saya sebutin Jadi cuma nanya-nanya ini', 'kereta aduman Fadnya nggak ya dok Kalau untuk ini', 'Jadi menebak lagi Tapi kalau boleh tanya Mau pakai', 'nggak? Ntar dulu deh Sama Berapa effort yang', 'mereka harus Tentukan untuk implementasi', 'Systemnya. Mungkin mereka mikir-mikir Bisa Oke,', 'secara sekilas Udah sama ini ya. Saya mungkin', 'tidak akan Dikusikan detail-detailnya Cuman memang', 'Ceritanya, cerita yang datang Jadi kan gitu ya', 'Yang dari unit tadi sebetulnya tidak', 'Memperlihatkan Walk flow dari Systemnya Ini kan', 'disini Kan gede-gede, terus sampai gini Ya Bukan', 'cuma masalah Anamnesisnya Mungkin perlu detail-', 'detailkan saja Pasti tadi ada yang Blood pressure', 'apa Semua ada disini Baru ke arah sini Di mana', 'posisi anamnesis itu Itu yang Di dalam rumah', 'disini kita Tidak belum tahu Sebetulnya kalau', 'Dokter itu melakukan diagnosis Apa peran Anamnesis', 'Oke Karena disitu yang akan membuat jadi Ini', 'penting ini, ini kan ceritanya begitu Ini ya Oh', 'anamnesis ini nanti saya harus Cauting, saya harus', 'lihat aspek Empatinya Mungkin ada hal yang Lebih', 'besar dari itu Misalnya, saya bisa tahu Orang', 'disadar gak Dalam perdasaran proses Ngewancara itu', 'orang disadar Iya kan Itu kan juga memperlihatkan', 'Sebetulnya posisi dari Proses ini Tentu saja', 'ditambah Kamu gak boleh merupakan Tadi, proses ini', 'tidak akan Terjadi hanya Dalam hal ini Dan tidak', 'Tidak mungkin dilakukan hanya Dalam jalan-jalan', 'Aduh sakit kepala nya gak gitu Iya kan Itu yang', 'saya pikir Iya sakit Tapi cuma mengumum doang Ya', 'udah makan bodreks Kayaknya gak akan gitu Ya ada', 'kebetulan fisik juga gitu Nah itu ya Jadi pasti', 'ada kebetulan fisik Yang membuat informasi Jadi', 'saya selalu bilang kalau begini itu Ada informasi', 'masuk nih Informasinya kalau cuma anam lesa', 'Sebetulnya tidak banyak yang bisa dikerjakan Iya', 'kan Aduh sakit Aduh sakit sekali Pasti pun ada', 'fisik Pasti ada lab dikit Entah itu bentuknya cuma', 'subuh atau apa Nah itulah yang membuat Aktuasi ini', 'berjalan Oke, informasinya ditambah ya pak Iya,', 'jadi ini ada harus ada cerita Yang itu sudah', 'memperlihatkan Oh ini di sini ya Kasus-kasus yang', 'kita diskusikan Apa sih posisi anam lesa di situ', 'Itu yang Surit untuk kita Nanya ke dokter Iya kan', 'Apa sih posisinya gitu Itu sudah jadi Kayak SOP', 'aja Iya Tapi itu bengan dari Dari terintegrasi', 'dari bagaimana Dokter mengakinkan diagnosis Iya', 'Nanya Yang jauh banyak bisa jadi yang saya bilang', 'itu Informasinya banyak sekali Ada nolisnya dan', 'lain-lain Tapi kita coba cari titik-titik Kata-', 'kata pentingnya Jadi sebetulnya kayak baca paper', 'Kemudian pemputar harus mikir Apa sih', 'kesimpulannya gitu Dari diskusi introduction Ini', 'ini ini Kesimpulannya apa gitu kan gitu Pemputar', 'menyimpulkan Dari hasil ngobrol setengah jam Sama', 'Vidya Oh ternyata maksudnya itu Cuma Pak sekarang', 'saya Gak mau mikir ke arah sakna Misalnya Misalnya', 'gitu ya Setengah jam Iya kan gitu Anam lesa kan', 'seperti itu Nah cerita itu yang Pemputar berusaha', 'Menyimpluhkan sesuatu Ditambah dengan ini', 'konteksnya Panas segala macam Kemudian malah', 'ngobrol tentang Liburan ke Paris Dan lain-lain Oh', 'ini delisional Berarti panasnya tinggi Kan gitu ya', 'Malah harus kasih Cepet-cepet wasiat tambor', 'mungkin malah Wadubur supaya suhu nya turun Diajak', 'ngobrol Sudah sadar Oh maksud saya ya Cerita itu', 'ya Yang di apa Yang di business intelligence ini', 'Saya perlu Menambahkan ini ya Pak Informasi yang', 'terkait dengan Pemeriksaan fisik seperti Hasil lab', 'Seperti itu atau hasil radiologi Gitu Pak ya Untuk', 'bisa Sebetulnya kalau saya lihat sebetulnya', 'Semuanya masih di daerah sini loh Iya informasi', 'ada di Ini pun sebetulnya mungkin Memang ada', 'banyak misalnya Empathy analysis Ya itu kan', 'sebetulnya Satu kotak dari video File ke kotak itu', 'Kemudian dibalikkan lagi Ini orang dokternya', 'Mungkin juga bukan kesini tapi ke Medical', 'Healthcare information misalnya Bahwa Dokter', 'Melakukan Bawancara Atau membuat Anamnesia tanpa', 'empati Mendalam Itu kan Sdm gitu Jadi teman-teman', 'perlu Membedakan antara Apa yang terjadi Ini', 'memang perlu diseritain dulu Itu yang saya', 'harapkan detilnya Karena jadi Tadi oh iya ya Itu', 'penting karena kalau dokternya Anamnesia sambil', 'marah-marah Masa ini juga Nggak akan keluar Kita', 'jadi faham anamnesia ini semua tidak berguna Ya', 'kan Tapi kan bukan di EHR Iya sih tempatnya Di', 'Healthcare Karena kita Menilai tata laksan', 'Perawatan Tata yang enak kesana Nah itu yang Detil', 'itu yang penting Yang penting Iya kan Dan kalau', 'sudah terlihat masalahnya ini Kalau untuk yang', 'Habis itu kamu cerita bahwa saya sudah belajar AI', 'bagaimana memproses Pahala disini Disini Iya', 'ijinin lagi pak Kalau untuk saya baru ini Kalau', 'bikin transkripsi itu Kan kita perlu Jadi', 'kedaannya sekarang Itu untuk ad corpus itu pak', 'Keliatannya kalau di bahasa Indonesia itu Belum', 'Apa saya belum tahu ya Jadi dari pendusurannya', 'Ketika sekarang saya lakukan itu belum dapat Ya', 'kalau saya malah tanya Sebetulnya Anamnesia', 'Transkripsi dengan Semantik Librarynya ya Library', 'semantik yang untuk Health untuk yang bahasa', 'Inggris ada enggak Kalau bahasa Inggris ada pak', 'Itu aja dilihat Karena sebetulnya itu isinya apa', 'Kayaknya dia udah Mod Ini sekilas model dia udah', 'Kayak pre-trained gitu mungkin ya Model yang sudah', 'Tapi isinya apa Kalau yang ditulis di', 'keterangannya sih Yang saya Ski Speci itu Kalau', 'itu ada untuk Dia udah di-trained dengan', 'Terminology Di Nidis Tapi misalnya sebetulnya Ini', 'sekadar transkripsi Gitu kan Transkripsi saja atau', 'memang ada Goal nya ke arah Anamnesia misalnya', 'Atau apa kan gitu ya Medica Transcription Iya Yang', 'model-model Contohnya yang sudah ada sebagian', 'besar Lebih ke ini untuk medical Specialty aja sih', 'pak Itu cuma transkripsi ya Iya transkripsi Jadi', 'ada mangguluhan pacien gitu Pertama gini Saya', 'pertama demam ini ini ini Seperti itu Tapi ada', 'pinpointnya itu ke organ tubus Dia menyebutkan', 'dada Oh berarti korelasinya keparung Cuman bahasa', 'Inggris Tersedia nya Nah saya coba Kalau ini', 'bahasanya dialog itu enggak ada Dialog Strategi', 'dialog dari Anamnesia Iya itu yang banyak contoh', 'Transkripsi sih Kalau untuk dialog belum sih pak', 'Enggak kot transkripsi kan berarti Monolognya Iya', 'saya mau coba sih Yang ini model apa Model yang', 'untuk transkripsi itu Kalau saya coba kan ke data', 'dialog Itu seperti atas Belum saya rubah Nah itu', 'tadi detilnya ya Tapi bahwa itu bagian dari yang', 'kamu sudah perajari Itu oke Kemudian juga mungkin', 'Coba ngobrol tentang model-modelnya ya Bagaimana', 'klasifikasinya Karena kalau transkripsi saya punya', 'misalnya Deretan kata-kata apa yang mau saya', 'lakukan dengan itu Biasanya di itu Di worth', 'embedding itu Jadi di rubah faktor sih Ke angka-', 'angka itu Berdasarkan kemencuan TFIDF kalau saya', 'tanya metodenya itu Jadi Kalau di Kalau di gambar', 'itu berdasarkan RGB Kalau di NLP Dari sejauh yang', 'saya pelajari sih Itu dia mencoba', 'mengkontifikasikannya Itu berdasarkan Percentase', 'kemencuan Kata Dalam satu narasi Biasanya gitu Iya', 'makanya misalnya kita kan Kamu butuh detil Di sini', 'Percentase itu orang Anamnesenya cuma bilang Pak', 'sakit kepala Dia harus berkali-kali bilang baru', 'Baru dia gak penting Ini pak Karena itu yang ada', 'itu Terus dia bahasa Inggris Mau bahasa Inggris', 'mau apa Tapi kita harus punya konsep Kesehat', 'konsepnya dulu ya Kepala pusing-pusing Pusing-', 'pusing baru dia gak penting Ya Kalau kepala saya', 'pusing Gak dianggap penting Gak dianggap penting', 'Jadi Transformasi ke Faktor angkanya Itu Kalau', 'misalnya Stanford itu udah mengeluarkan Itu yang', 'bisa bilang perlu Faktorisasi Kalimat atau', 'paragrap Dia tuh pakai Wikipedia sih Datarnya', 'Wikipedia Jadi setiap kata itu udah Ada', 'kwantifikasinya Berapa Misalnya is bahasa Inggris', 'I itu berapa kwantifikasinya Terus he Coba itu di', 'detilin ya Sebaiknya kamu sendiri paham Karena ini', 'belum memperlihatkan Kamu paham Ya kan maksud saya', 'gitu Oh berarti apakah bobotnya Tergantung dari', 'kalau menurut Wikipedia Presentasi disitu itu', 'Kalau I itu cukup tinggi Kan gitu ya Bobotnya', 'dianggap tinggi Kita gak bicara Percentase', 'kemunculan kan Tapi Ada kontradiksi ketika kamu', 'cerita Untuk masuk ke perhitungannya Jadi kalau', 'Faktorisasi yang itu Pake Wikipedia itu ada Terus', 'kalau yang C-Spec Itu udah Belasarkan isu-isu', 'medis Jadi dia mengkantifikasi Mungkin bahannya', 'Mungkin semacam Wikipedia juga tapi Coba dibuat', 'itu betul-betul Detil Bagaimana itu dilakukan Itu', 'yang paling penting Paling kendalanya kalau saya', 'Saya malah belum lihat itu bisa dilakukan Dengan', 'frekuensi Kemunculan Ya dia mengkantifikasinya', 'dari situ sih Ininya apa Jadi mungkin Kalau gambar', 'itu Pake nilai RGB Kalau itu itu gitu Ya tapi apa', 'maksudnya tadi apakah Orangnya harus bicara Tadi', 'Bukan seperti itu kan Tapi frekuensi kemunculannya', 'berdasarkan Literaturnya menjadi dasar dari Model', 'itu Library-nya Bobotnya Dihitung dari banyaknya', 'Kemunculan Kata-kata itu Di populasi yang banyak', 'Tapi itu yang saya bilang Yang membuat saya jadi', 'ngeliat Juni ngerti atau enggak Iya kan Itu perlu', 'benar-benar Yang seperti itu Kalau kamu ceritanya', 'Gimana maksudnya Kalau saya bilang pusing penting', 'Kalau Sakit perut enggak Apa maksudnya Itu aja', 'masih bisa dikejar kesana loh Karena kemunculannya', 'tidak banyak Sakit perut Posisinya lebih rendah', 'Daripada pusing misalnya Tapi apa yang disebut', 'Posisinya lebih rendah Apa maksud saya ya?', 'Keliatannya dia akan mendeteksi organ tubuh sih', 'Sebelumnya Jadi misalnya pusing Pusingnya nanti', 'harus muncul Di dalam transcriptnya itu kepala', 'Jadi itu kepala Saya merasa Saya belum baca cukup', 'detail Tapi kebayang ya Banyak isu yang sebetulnya', 'muncul Yang udah bicara begini ini Kita baru bisa', 'bicara gambarnya dengan Yang lumayan clear Kalau', 'kamu sudah bisa cerita dengan cukup Detail Kalau', 'enggak Saya masih melihat Apa ya yang kamu mau', 'cari Misalnya gitu Apakah bagian dari diagnosa Ya', 'kan? Dan apa hubungannya dengan Fisikal ini ya Oke', 'saya pusing Oh iya, berarti ada hal-hal di kepala', 'Pak yang harus diperhatikan Itu kan posisi dari', 'itu Tapi Pusing bisa jadi karena perutnya Karena', 'perutnya kosong Kepalanya bilang pusing Tapi', 'persokannya bukan di kepala Anamnesen kalau', 'sekedar begitu Bisa sangat menyesarkan Kalau kita', 'bicara diagnosa Makanya nih, saya betul-betul', 'Berangkat ada Kedalaman analisa dari Apa yang', 'ingin dilakukan Detail-detail itu Ya kan? Untuk', 'yang matching fun itu Kan salah satunya kan', 'targetnya Mungkin bisa ke desa mama desa pak ya', 'Terutama kalau Kos yandu itu kan di bawah Kedua-', 'duanya desa Jadi diperluas aja untuk judul', 'Matching funnya tuh pak Saya udah ngobrol sama Pak', 'Agus Ya kalau dari TPPT Ika tuh Kayak punya kawal', 'desa Nanti kan dipake lagi Cuma kan kita butuh', 'judul besarnya']\n"
          ]
        }
      ],
      "source": [
        "import textwrap\n",
        "#\n",
        "result = model.transcribe(\"drive/MyDrive/ColabNotebooks/Bimbingan1312_2022.mp3\",fp16=False, language='id')\n",
        "#print(wrapper.wrap(result[\"text\"]))\n",
        "text = result[\"text\"]\n",
        "wrapper = textwrap.TextWrapper(width=50)\n",
        "text = wrapper.wrap(text)\n",
        "print(text)"
      ],
      "id": "f214ff0a-1be4-444e-92d9-c9b80d333673"
    }
  ],
  "metadata": {
    "colab": {
      "provenance": [],
      "gpuType": "T4"
    },
    "kernelspec": {
      "display_name": "Python 3",
      "name": "python3"
    },
    "language_info": {
      "codemirror_mode": {
        "name": "ipython",
        "version": 3
      },
      "file_extension": ".py",
      "mimetype": "text/x-python",
      "name": "python",
      "nbconvert_exporter": "python",
      "pygments_lexer": "ipython3",
      "version": "3.10.10"
    },
    "accelerator": "GPU"
  },
  "nbformat": 4,
  "nbformat_minor": 5
}